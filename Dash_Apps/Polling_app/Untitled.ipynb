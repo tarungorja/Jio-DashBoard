{
 "cells": [
  {
   "cell_type": "code",
   "execution_count": 8,
   "id": "8712fe2f",
   "metadata": {},
   "outputs": [],
   "source": [
    "import dash"
   ]
  },
  {
   "cell_type": "code",
   "execution_count": 9,
   "id": "34e46304",
   "metadata": {},
   "outputs": [],
   "source": [
    "from dash.dependencies import Input, Output\n"
   ]
  },
  {
   "cell_type": "code",
   "execution_count": 10,
   "id": "176a43f1",
   "metadata": {},
   "outputs": [],
   "source": [
    "import dash_core_components as dcc\n",
    "import dash_html_components as html"
   ]
  },
  {
   "cell_type": "code",
   "execution_count": 11,
   "id": "ed29f7e8",
   "metadata": {},
   "outputs": [],
   "source": [
    "app =dash.Dash(__name__)"
   ]
  },
  {
   "cell_type": "code",
   "execution_count": 12,
   "id": "2cf61ef9",
   "metadata": {},
   "outputs": [],
   "source": [
    "app.layout = html.Div(children=[\n",
    "    html.H1(children=\"Welcome to Dash_Polling app\"),\n",
    "    html.Div(['Input: ', dcc.Input(id='input1', type='text',value='Initial Value')]),\n",
    "    html.Br(),\n",
    "    html.Div(id='output-div')\n",
    "    \n",
    "])"
   ]
  },
  {
   "cell_type": "code",
   "execution_count": 13,
   "id": "6d55a742",
   "metadata": {},
   "outputs": [],
   "source": [
    "@app.callback(Output(component_id=\"output-div\",component_property=\"children\"),Input(component_id=\"input1\",component_property=\"value\"))\n",
    "def update_output_div(input_val):\n",
    "    output_val = \"Output: {}\".format(input_val)\n",
    "    return output_val\n"
   ]
  },
  {
   "cell_type": "code",
   "execution_count": 15,
   "id": "8a0c325a",
   "metadata": {},
   "outputs": [
    {
     "data": {
      "text/html": [
       "\n",
       "        <iframe\n",
       "            width=\"100%\"\n",
       "            height=\"650\"\n",
       "            src=\"http://127.0.0.1:8050/\"\n",
       "            frameborder=\"0\"\n",
       "            allowfullscreen\n",
       "            \n",
       "        ></iframe>\n",
       "        "
      ],
      "text/plain": [
       "<IPython.lib.display.IFrame at 0x198ecdc2410>"
      ]
     },
     "metadata": {},
     "output_type": "display_data"
    }
   ],
   "source": [
    "if __name__==\"__main__\":\n",
    "    app.run_server()"
   ]
  },
  {
   "cell_type": "code",
   "execution_count": null,
   "id": "7ddb3746",
   "metadata": {},
   "outputs": [],
   "source": []
  },
  {
   "cell_type": "code",
   "execution_count": null,
   "id": "915295a8",
   "metadata": {},
   "outputs": [],
   "source": []
  }
 ],
 "metadata": {
  "kernelspec": {
   "display_name": "Python 3 (ipykernel)",
   "language": "python",
   "name": "python3"
  },
  "language_info": {
   "codemirror_mode": {
    "name": "ipython",
    "version": 3
   },
   "file_extension": ".py",
   "mimetype": "text/x-python",
   "name": "python",
   "nbconvert_exporter": "python",
   "pygments_lexer": "ipython3",
   "version": "3.10.9"
  }
 },
 "nbformat": 4,
 "nbformat_minor": 5
}
